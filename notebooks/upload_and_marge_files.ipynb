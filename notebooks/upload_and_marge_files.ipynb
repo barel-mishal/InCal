{
 "cells": [
  {
   "cell_type": "code",
   "execution_count": null,
   "source": [],
   "outputs": [],
   "metadata": {}
  }
 ],
 "metadata": {
  "orig_nbformat": 4,
  "language_info": {
   "name": "python",
   "version": "3.9.7"
  },
  "kernelspec": {
   "name": "python3",
   "display_name": "Python 3.9.7 64-bit ('venv': venv)"
  },
  "interpreter": {
   "hash": "66599a7a6142eae9f63457fbd787ef4b55802012b5e3fbb704210ee6f3bbe423"
  }
 },
 "nbformat": 4,
 "nbformat_minor": 2
}